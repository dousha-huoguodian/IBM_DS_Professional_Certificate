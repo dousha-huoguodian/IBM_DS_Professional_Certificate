{
 "cells": [
  {
   "cell_type": "code",
   "execution_count": 3,
   "id": "b67c8816",
   "metadata": {},
   "outputs": [
    {
     "ename": "SyntaxError",
     "evalue": "invalid syntax (<ipython-input-3-088ee2977bcb>, line 3)",
     "output_type": "error",
     "traceback": [
      "\u001b[0;36m  File \u001b[0;32m\"<ipython-input-3-088ee2977bcb>\"\u001b[0;36m, line \u001b[0;32m3\u001b[0m\n\u001b[0;31m    creds = JSON credentials\u001b[0m\n\u001b[0m                 ^\u001b[0m\n\u001b[0;31mSyntaxError\u001b[0m\u001b[0;31m:\u001b[0m invalid syntax\n"
     ]
    }
   ],
   "source": [
    "import json\n",
    "import base64\n",
    "creds = JSON credentials"
   ]
  },
  {
   "cell_type": "code",
   "execution_count": 4,
   "id": "514509ee",
   "metadata": {},
   "outputs": [
    {
     "name": "stdout",
     "output_type": "stream",
     "text": [
      "b'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'\n"
     ]
    }
   ],
   "source": [
    "with open('bt-cust-gl-search-rl-34df-b2d3c153a7d4.json') as jsonfile:\n",
    "    data = json.load(jsonfile)\n",
    "#     print(type(data))  #dict\n",
    "#     datastr = json.dumps(data)\n",
    "#     print(type(datastr)) #str\n",
    "#     print(datastr)\n",
    "#     encoded = base64.b64encode(datastr.encode('utf-8'))  #1 way\n",
    "    creds64 = base64.b64encode(json.dumps(data).encode('utf-8')).decode('utf-8')\n",
    "    print(encoded)\n",
    "\n",
    "#     print(base64.encodebytes(datastr.encode())) #2 method"
   ]
  },
  {
   "cell_type": "code",
   "execution_count": null,
   "id": "9b830cde",
   "metadata": {},
   "outputs": [],
   "source": []
  }
 ],
 "metadata": {
  "kernelspec": {
   "display_name": "Python 3",
   "language": "python",
   "name": "python3"
  },
  "language_info": {
   "codemirror_mode": {
    "name": "ipython",
    "version": 3
   },
   "file_extension": ".py",
   "mimetype": "text/x-python",
   "name": "python",
   "nbconvert_exporter": "python",
   "pygments_lexer": "ipython3",
   "version": "3.8.8"
  }
 },
 "nbformat": 4,
 "nbformat_minor": 5
}
